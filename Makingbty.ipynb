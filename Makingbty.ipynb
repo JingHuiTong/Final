{
 "cells": [
  {
   "cell_type": "code",
   "execution_count": 1,
   "metadata": {},
   "outputs": [],
   "source": [
    "import obspy, os\n",
    "import pandas as pd\n",
    "import numpy as np\n",
    "from obspy.geodetics.base import gps2dist_azimuth\n",
    "from scipy.interpolate import interp2d\n"
   ]
  },
  {
   "cell_type": "code",
   "execution_count": 2,
   "metadata": {},
   "outputs": [],
   "source": [
    "WD_new_lat_lon = pd.read_csv('WD_new.csv',names=['lon','lat'])\n",
    "WD_bty = pd.read_csv('wd_ChaoJing_new.csv',header=None)\n",
    "GPStime = pd.read_csv('gpstime.csv',names=['time'])\n",
    "GPSlat = pd.read_csv('gps_lat.csv',names=['AUV','Buoy','Ship'])\n",
    "GPSlon = pd.read_csv('gps_lon.csv',names=['AUV','Buoy','Ship'])"
   ]
  },
  {
   "cell_type": "code",
   "execution_count": 3,
   "metadata": {},
   "outputs": [],
   "source": [
    "envfile = 'Buoy-Ship'\n",
    "\n",
    "freq = 18500.000\n",
    "Nmedia = 1 \n",
    "topopt = 'CVW'\n",
    "option2='A*'\n",
    "cpbottom = 2300\n",
    "csbottom = 0.00\n",
    "den_bottom = 2.300\n",
    "alpha_bottom = 1.200\n",
    "Nbeams = 1001\n",
    "alpha = 20.0\n",
    "step = 1.000\n",
    "zbox = 50.000"
   ]
  },
  {
   "cell_type": "code",
   "execution_count": 11,
   "metadata": {
    "tags": []
   },
   "outputs": [],
   "source": [
    "def createBTY(lentobty, Shipbty, sorted_Dis,sorted_Bty,runtype,rbox, savepath, envfile,texttime):\n",
    "    if runtype == 'E':\n",
    "        end = 'eigen'\n",
    "    elif runtype =='A':\n",
    "        end = 'amp'\n",
    "    ##Create bty file \n",
    "    cmd = ''' echo $'\\\"C\\\"' > %(savepath)s/%(envfile)s_time%(texttime)s_%(end)s.bty''' % locals()\n",
    "    os.system(cmd) \n",
    "    cmd = '''echo %(lentobty)s  >> %(savepath)s/%(envfile)s_time%(texttime)s_%(end)s.bty''' % locals()\n",
    "    os.system(cmd) \n",
    "    Shipbty = abs(Shipbty)\n",
    "    if Shipbty> max(abs(sorted_Bty)):\n",
    "        Shipbty = max(abs(sorted_Bty))\n",
    "    cmd = ''' echo 0.000000 %(Shipbty)f >> %(savepath)s/%(envfile)s_time%(texttime)s_%(end)s.bty''' % locals()\n",
    "    os.system(cmd)\n",
    "    for i in range(lentobty-1):\n",
    "        dist = sorted_Dis[i]\n",
    "        bty  = -1*sorted_Bty[i]\n",
    "        cmd  = ''' echo %(dist)f %(bty)f >> %(savepath)s/%(envfile)s_time%(texttime)s_%(end)s.bty ''' %locals()\n",
    "        os.system(cmd)\n",
    "    cmd = ''' echo  >> %(savepath)s/%(envfile)s_time%(texttime)s_%(end)s.bty''' % locals()\n",
    "    os.system(cmd)"
   ]
  },
  {
   "cell_type": "code",
   "execution_count": 5,
   "metadata": {},
   "outputs": [],
   "source": [
    "def createENV(savepath, envfile,texttime, titleenv,freq,Nmedia, topopt, BtyLine,option2,cpbottom, csbottom, den_bottom,alpha_bottom, \\\n",
    "        NSD,SD,NRD,RD,NRR,RR,runtype,Nbeams,alpha,step,zbox,rbox):\n",
    "    if runtype == 'E':\n",
    "        end = 'eigen'\n",
    "    elif runtype =='A':\n",
    "        end = 'amp'\n",
    "    deepest = int(abs(min(BtyLine)))+1\n",
    "    file = f'{savepath}/{envfile}_time{texttime}_{end}.env'\n",
    "    f = open(file, 'w')\n",
    "    f.write(f\"' {titleenv} ' \\n\")\n",
    "    f.write(f'{freq} \\n')\n",
    "    f.write(f'{Nmedia} \\n')\n",
    "    f.write(f\"'{topopt}' \\n\")\n",
    "    f.write(f'50 0.00 {deepest} \\n')\n",
    "    f.write(f'    0.000000  1533  /\\n')\n",
    "    f.write(f'    {deepest}  1533  /\\n')\n",
    "    f.write(f\"'{option2}'  0.0 \\n\")\n",
    "    f.write(f' {deepest} {cpbottom} {csbottom} {den_bottom} {alpha_bottom} / ! lower halfspace \\n')\n",
    "    f.write(f'{NSD}\t\t\t! NSD \\n')\n",
    "    f.write(f'{SD}  ! SD(1:NSD)  ... \\n')\n",
    "    f.write(f'{NRD} /\t\t! NRD \\n')\n",
    "    f.write(f'{RD}   /\t\t! RD(1:NRD)  ... \\n')\n",
    "    f.write(f'{NRR} /\t\t! NRR \\n')\n",
    "    f.write(f'{RR}   /\t\t! RR(1)  ... \\n')\n",
    "    f.write(f\"'{runtype}' \\n\")\n",
    "    f.write(f'{Nbeams} \\n')\n",
    "    f.write(f'{-alpha} {alpha} / \\n')\n",
    "    f.write(f'{step} {zbox} {rbox} \\n')\n",
    "    f.close()\n",
    "\n"
   ]
  },
  {
   "cell_type": "markdown",
   "metadata": {},
   "source": [
    "## interp 2d to find water depth"
   ]
  },
  {
   "cell_type": "code",
   "execution_count": 6,
   "metadata": {},
   "outputs": [],
   "source": [
    "f = interp2d(WD_new_lat_lon['lon'][0:169],WD_new_lat_lon['lat'],WD_bty.T,kind='linear',fill_value=True)"
   ]
  },
  {
   "cell_type": "code",
   "execution_count": 12,
   "metadata": {},
   "outputs": [
    {
     "name": "stdout",
     "output_type": "stream",
     "text": [
      "Ship depth: -33.88249315606257m\n",
      "Buoy depth: -30.595745145990538m\n",
      "Max distance: 0.36936km\n"
     ]
    }
   ],
   "source": [
    "import matplotlib.pyplot as plt\n",
    "\n",
    "for itime in range(1,2): #range(len(GPStime)):\n",
    "    texttime = str(itime).zfill(3)\n",
    "    savepath = f'time_{texttime}'\n",
    "    if not os.path.isdir(savepath):\n",
    "        os.makedirs(savepath)\n",
    "    Ship_lat = 25+GPSlat['Ship'].values[itime]/60\n",
    "    Ship_lon = 121+GPSlon['Ship'].values[itime]/60\n",
    "    Buoy_lat = 25+GPSlat['Buoy'].values[itime]/60\n",
    "    Buoy_lon = 121+GPSlon['Buoy'].values[itime]/60\n",
    "    # plt.plot([Ship_lon,Buoy_lon],[Ship_lat,Buoy_lat],'ro')\n",
    "    Shipbty = f(Ship_lon,Ship_lat)[0]\n",
    "    print(f'Ship depth: {Shipbty}m')\n",
    "    Buoybty = f(Buoy_lon,Buoy_lat)[0]\n",
    "    print(f'Buoy depth: {Buoybty}m')\n",
    "\n",
    "    dist,az,baz = gps2dist_azimuth(Ship_lat,Ship_lon,Buoy_lat,Buoy_lon)\n",
    "    ttt = 20\n",
    "    dx = dist/ttt\n",
    "    BtyLine = [] ; SourceDist=[]\n",
    "    for i in range(1,ttt):\n",
    "        distance = dx * i \n",
    "        if distance <= dist : \n",
    "             newlat = Ship_lat + (distance* np.cos(az*np.pi/180))/111/1000\n",
    "             newlon = Ship_lon + (distance* np.sin(az*np.pi/180))/111/1000\n",
    "             interpoint_depth = f(newlon,newlat)[0]\n",
    "             BtyLine.append(round(interpoint_depth,3))\n",
    "             SourceDist.append(round(distance/1000,5))\n",
    "            #  print(interpoint_depth)\n",
    "\n",
    "    Dist_array = np.array(SourceDist)\n",
    "    Bty_array = np.array(BtyLine)\n",
    "    inds = Dist_array.argsort()\n",
    "    sorted_Bty = Bty_array[inds]\n",
    "    sorted_Dis = sorted(Dist_array)\n",
    "\n",
    "    print(f'Max distance: {max(sorted_Dis)}km')\n",
    "\n",
    "    \n",
    "    lentobty = int(len(sorted_Dis))+1\n",
    "    titleenv = f'ChaoJing {envfile} {texttime}'\n",
    "    NSD = 1 ##number of sourece depth\n",
    "    SD = 10 ##source depth\n",
    "    NRD = 1 ##number of receiver depth\n",
    "    RD = 10 ##receiver depth\n",
    "    NRR  = 1 ## the number of receiver ranges\n",
    "    RR = max(sorted_Dis) ##receiver range\n",
    "    rbox = max(sorted_Dis)+0.5\n",
    "\n",
    "    createBTY(lentobty, Shipbty, sorted_Dis,sorted_Bty,'E',rbox, savepath, envfile, texttime)\n",
    "    createBTY(lentobty, Shipbty, sorted_Dis,sorted_Bty,'A',rbox, savepath, envfile, texttime)\n",
    "\n",
    "    createENV(savepath, envfile,texttime, titleenv,freq,Nmedia, topopt, BtyLine,option2,cpbottom, csbottom, den_bottom,alpha_bottom, \\\n",
    "        NSD,SD,NRD,RD,NRR,RR,'E',Nbeams,alpha,step,zbox,rbox)\n",
    "    createENV(savepath, envfile,texttime, titleenv,freq,Nmedia, topopt, BtyLine,option2,cpbottom, csbottom, den_bottom,alpha_bottom, \\\n",
    "        NSD,SD,NRD,RD,NRR,RR,'A',Nbeams,alpha,step,zbox,rbox)"
   ]
  }
 ],
 "metadata": {
  "interpreter": {
   "hash": "19929eedae2c6341a5fa14098ac29739e02affa232301e1ce5979c7b24508a9c"
  },
  "kernelspec": {
   "display_name": "Python 3 (ipykernel)",
   "language": "python",
   "name": "python3"
  },
  "language_info": {
   "codemirror_mode": {
    "name": "ipython",
    "version": 3
   },
   "file_extension": ".py",
   "mimetype": "text/x-python",
   "name": "python",
   "nbconvert_exporter": "python",
   "pygments_lexer": "ipython3",
   "version": "3.8.12"
  }
 },
 "nbformat": 4,
 "nbformat_minor": 4
}
