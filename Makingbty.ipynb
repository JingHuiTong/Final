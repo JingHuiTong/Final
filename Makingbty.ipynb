{
 "cells": [
  {
   "cell_type": "code",
   "execution_count": 68,
   "metadata": {},
   "outputs": [],
   "source": [
    "import obspy, os\n",
    "import pandas as pd\n",
    "import numpy as np\n",
    "from obspy.geodetics.base import gps2dist_azimuth"
   ]
  },
  {
   "cell_type": "code",
   "execution_count": 69,
   "metadata": {},
   "outputs": [],
   "source": [
    "WD_new_lat_lon = pd.read_csv('WD_new.csv',names=['lon','lat'])\n",
    "WD_bty = pd.read_csv('wd_ChaoJing_new.csv',header=None)\n",
    "GPStime = pd.read_csv('gpstime.csv',names=['time'])\n",
    "GPSlat = pd.read_csv('gps_lat.csv',names=['AUV','Buoy','Ship'])\n",
    "GPSlon = pd.read_csv('gps_lon.csv',names=['AUV','Buoy','Ship'])"
   ]
  },
  {
   "cell_type": "code",
   "execution_count": 70,
   "metadata": {},
   "outputs": [],
   "source": [
    "envfile = 'Buoy-Ship'\n",
    "\n",
    "freq = 18500.000\n",
    "Nmedia = 1 \n",
    "topopt = 'CVW'\n",
    "option2='A*'\n",
    "cpbottom = 2300\n",
    "csbottom = 0.00\n",
    "den_bottom = 2.300\n",
    "alpha_bottom = 1.200\n",
    "Nbeams = 1001\n",
    "alpha = 20.0\n",
    "step = 1.000\n",
    "zbox = 50.000"
   ]
  },
  {
   "cell_type": "code",
   "execution_count": 71,
   "metadata": {
    "tags": []
   },
   "outputs": [],
   "source": [
    "def createBTY(lentobty, Shipbty, sorted_Dis,sorted_Bty,qqq,runtype,rbox, savepath, envfile,texttime):\n",
    "    if runtype == 'E':\n",
    "        end = 'eigen'\n",
    "    elif runtype =='A':\n",
    "        end = 'amp'\n",
    "    ##Create bty file \n",
    "    cmd = ''' echo $'\\\"C\\\"' > %(savepath)s/%(envfile)s_time%(texttime)s_%(end)s.bty''' % locals()\n",
    "    os.system(cmd) \n",
    "    cmd = '''echo %(lentobty)s  >> %(savepath)s/%(envfile)s_time%(texttime)s_%(end)s.bty''' % locals()\n",
    "    os.system(cmd) \n",
    "    Shipbty = abs(Shipbty)\n",
    "    if Shipbty> max(abs(sorted_Bty)):\n",
    "        Shipbty = max(abs(sorted_Bty))\n",
    "    cmd = ''' echo 0.000000 %(Shipbty)f >> %(savepath)s/%(envfile)s_time%(texttime)s_%(end)s.bty''' % locals()\n",
    "    os.system(cmd)\n",
    "    for i in range(lentobty-2):\n",
    "        j = i*qqq\n",
    "        dist = sorted_Dis[j]\n",
    "        bty  = -1*sorted_Bty[j]\n",
    "        cmd  = ''' echo %(dist)f %(bty)f >> %(savepath)s/%(envfile)s_time%(texttime)s_%(end)s.bty ''' %locals()\n",
    "        os.system(cmd)\n",
    "    cmd = ''' echo %(rbox)f %(bty)f >> %(savepath)s/%(envfile)s_time%(texttime)s_%(end)s.bty''' % locals()\n",
    "    os.system(cmd)\n",
    "    cmd = ''' echo  >> %(savepath)s/%(envfile)s_time%(texttime)s_%(end)s.bty''' % locals()\n",
    "    os.system(cmd)"
   ]
  },
  {
   "cell_type": "code",
   "execution_count": 72,
   "metadata": {},
   "outputs": [],
   "source": [
    "def createENV(savepath, envfile,texttime, titleenv,freq,Nmedia, topopt, BtyLine,option2,cpbottom, csbottom, den_bottom,alpha_bottom, \\\n",
    "        NSD,SD,NRD,RD,NRR,RR,runtype,Nbeams,alpha,step,zbox,rbox):\n",
    "    if runtype == 'E':\n",
    "        end = 'eigen'\n",
    "    elif runtype =='A':\n",
    "        end = 'amp'\n",
    "    deepest = int(abs(min(BtyLine)))+1\n",
    "    file = f'{savepath}/{envfile}_time{texttime}_{end}.env'\n",
    "    f = open(file, 'w')\n",
    "    f.write(f\"' {titleenv} ' \\n\")\n",
    "    f.write(f'{freq} \\n')\n",
    "    f.write(f'{Nmedia} \\n')\n",
    "    f.write(f\"'{topopt}' \\n\")\n",
    "    f.write(f'50 0.00 {deepest} \\n')\n",
    "    f.write(f'    0.000000  1533  /\\n')\n",
    "    f.write(f'    {deepest}  1533  /\\n')\n",
    "    f.write(f\"'{option2}'  0.0 \\n\")\n",
    "    f.write(f' {deepest} {cpbottom} {csbottom} {den_bottom} {alpha_bottom} / ! lower halfspace \\n')\n",
    "    f.write(f'{NSD}\t\t\t! NSD \\n')\n",
    "    f.write(f'{SD}  ! SD(1:NSD)  ... \\n')\n",
    "    f.write(f'{NRD} /\t\t! NRD \\n')\n",
    "    f.write(f'{RD}   /\t\t! RD(1:NRD)  ... \\n')\n",
    "    f.write(f'{NRR} /\t\t! NRR \\n')\n",
    "    f.write(f'{RR}   /\t\t! RR(1)  ... \\n')\n",
    "    f.write(f\"'{runtype}' \\n\")\n",
    "    f.write(f'{Nbeams} \\n')\n",
    "    f.write(f'{-alpha} {alpha} / \\n')\n",
    "    f.write(f'{step} {zbox} {rbox} \\n')\n",
    "    f.close()\n",
    "\n"
   ]
  },
  {
   "cell_type": "code",
   "execution_count": 75,
   "metadata": {},
   "outputs": [
    {
     "name": "stdout",
     "output_type": "stream",
     "text": [
      "Ship depth: -33.694988m\n",
      "Buoy depth: -26.463713m\n",
      "Max distance: 0.36797km\n",
      "Ship depth: -33.694988m\n",
      "Buoy depth: -26.463713m\n",
      "Max distance: 0.3664km\n"
     ]
    }
   ],
   "source": [
    "for itime in range(1,3): #range(len(GPStime)):\n",
    "    texttime = str(itime).zfill(3)\n",
    "    savepath = f'time_{texttime}'\n",
    "    if not os.path.isdir(savepath):\n",
    "        os.makedirs(savepath)\n",
    "    Ship_lat = 25+GPSlat['Ship'].values[itime]/60\n",
    "    Ship_lon = 121+GPSlon['Ship'].values[itime]/60\n",
    "    Buoy_lat = 25+GPSlat['Buoy'].values[itime]/60\n",
    "    Buoy_lon = 121+GPSlon['Buoy'].values[itime]/60\n",
    "    ## find the bty depth of the ship\n",
    "    minlon = min(WD_new_lat_lon['lon'], key=lambda x:abs(x-Ship_lon))\n",
    "    minlon_index = WD_new_lat_lon['lon'][WD_new_lat_lon['lon']==minlon].index[0]\n",
    "    minlat = min(WD_new_lat_lon['lat'], key=lambda x:abs(x-Ship_lat))\n",
    "    minlat_index = WD_new_lat_lon['lat'][WD_new_lat_lon['lat']==minlat].index[0]\n",
    "    Shipbty = WD_bty[minlon_index][minlat_index]\n",
    "    print(f'Ship depth: {Shipbty}m')\n",
    "    ## find the depth of the Buoy\n",
    "    minlon = min(WD_new_lat_lon['lon'], key=lambda x:abs(x-Buoy_lon))\n",
    "    minlon_index = WD_new_lat_lon['lon'][WD_new_lat_lon['lon']==minlon].index[0]\n",
    "    minlat = min(WD_new_lat_lon['lat'], key=lambda x:abs(x-Buoy_lat))\n",
    "    minlat_index = WD_new_lat_lon['lat'][WD_new_lat_lon['lat']==minlat].index[0]\n",
    "    Buoybty = WD_bty[minlon_index][minlat_index]\n",
    "    print(f'Buoy depth: {Buoybty}m')\n",
    "\n",
    "    BtyLine = [] ; SourceDist=[]\n",
    "    for i,lon in enumerate(WD_new_lat_lon['lon']):\n",
    "        for j,lat in enumerate(WD_new_lat_lon['lat']):\n",
    "            if Buoy_lon<=lon<=Ship_lon and Buoy_lat<=lat<=Ship_lat:\n",
    "            #    print(lon, lat, bty)\n",
    "                bty = WD_bty[i][j]\n",
    "                BtyLine.append(bty)\n",
    "                dist,az,baz = gps2dist_azimuth(Ship_lat,Ship_lon,lat,lon)\n",
    "                SourceDist.append(round(dist/1000,5))\n",
    "\n",
    "    Dist_array = np.array(SourceDist)\n",
    "    Bty_array = np.array(BtyLine)\n",
    "    inds = Dist_array.argsort()\n",
    "    sorted_Bty = Bty_array[inds]\n",
    "    sorted_Dis = sorted(Dist_array)\n",
    "\n",
    "    print(f'Max distance: {max(sorted_Dis)}km')\n",
    "\n",
    "    if len(sorted_Dis)<20:\n",
    "        qqq = 1 \n",
    "    elif 20<=len(sorted_Dis)<100:\n",
    "        qqq=4\n",
    "    elif 100<=len(sorted_Dis)<200:\n",
    "        qqq=10\n",
    "    elif 200<len(sorted_Dis):\n",
    "        qqq=20\n",
    "    \n",
    "    lentobty = int(len(sorted_Dis)/qqq)+2\n",
    "    titleenv = f'ChaoJing {envfile} {texttime}'\n",
    "    NSD = 1 ##number of sourece depth\n",
    "    SD = 10 ##source depth\n",
    "    NRD = 1 ##number of receiver depth\n",
    "    RD = 3 ##receiver depth\n",
    "    NRR  = 1 ## the number of receiver ranges\n",
    "    RR = max(sorted_Dis) ##receiver range\n",
    "    rbox = max(sorted_Dis)+0.5\n",
    "\n",
    "    createBTY(lentobty, Shipbty, sorted_Dis,sorted_Bty,qqq,'E',rbox, savepath, envfile, texttime)\n",
    "    createBTY(lentobty, Shipbty, sorted_Dis,sorted_Bty,qqq,'A',rbox, savepath, envfile, texttime)\n",
    "\n",
    "\n",
    "    createENV(savepath, envfile,texttime, titleenv,freq,Nmedia, topopt, BtyLine,option2,cpbottom, csbottom, den_bottom,alpha_bottom, \\\n",
    "        NSD,SD,NRD,RD,NRR,RR,'E',Nbeams,alpha,step,zbox,rbox)\n",
    "    createENV(savepath, envfile,texttime, titleenv,freq,Nmedia, topopt, BtyLine,option2,cpbottom, csbottom, den_bottom,alpha_bottom, \\\n",
    "        NSD,SD,NRD,RD,NRR,RR,'A',Nbeams,alpha,step,zbox,rbox)"
   ]
  },
  {
   "cell_type": "code",
   "execution_count": 74,
   "metadata": {},
   "outputs": [
    {
     "data": {
      "text/plain": [
       "-32.599055999999997"
      ]
     },
     "execution_count": 74,
     "metadata": {},
     "output_type": "execute_result"
    }
   ],
   "source": [
    "min(BtyLine)"
   ]
  },
  {
   "cell_type": "code",
   "execution_count": null,
   "metadata": {},
   "outputs": [],
   "source": []
  }
 ],
 "metadata": {
  "interpreter": {
   "hash": "19929eedae2c6341a5fa14098ac29739e02affa232301e1ce5979c7b24508a9c"
  },
  "kernelspec": {
   "display_name": "Python 3 (ipykernel)",
   "language": "python",
   "name": "python3"
  },
  "language_info": {
   "codemirror_mode": {
    "name": "ipython",
    "version": 3
   },
   "file_extension": ".py",
   "mimetype": "text/x-python",
   "name": "python",
   "nbconvert_exporter": "python",
   "pygments_lexer": "ipython3",
   "version": "3.8.8"
  }
 },
 "nbformat": 4,
 "nbformat_minor": 4
}
